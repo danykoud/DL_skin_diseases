{
 "cells": [
  {
   "cell_type": "code",
   "execution_count": 1,
   "metadata": {
    "executionInfo": {
     "elapsed": 3149,
     "status": "ok",
     "timestamp": 1602722503560,
     "user": {
      "displayName": "dany k",
      "photoUrl": "https://lh3.googleusercontent.com/a-/AOh14GgDCbeDRUz17ZQwgdm4Xtqk_E2iIeJs6myMhdLylg=s64",
      "userId": "15365450731390814726"
     },
     "user_tz": 420
    },
    "id": "YaSy8xz0QE7_"
   },
   "outputs": [],
   "source": [
    "# Keras\n",
    "import keras \n",
    "from keras.models import *\n",
    "from keras.layers import *\n",
    "from keras.optimizers import *\n",
    "from keras.preprocessing.image import ImageDataGenerator\n",
    "from keras.layers.core import Activation, Dropout, Flatten, Dense"
   ]
  },
  {
   "cell_type": "code",
   "execution_count": 2,
   "metadata": {
    "colab": {
     "base_uri": "https://localhost:8080/",
     "height": 34
    },
    "executionInfo": {
     "elapsed": 1657,
     "status": "ok",
     "timestamp": 1602722509808,
     "user": {
      "displayName": "dany k",
      "photoUrl": "https://lh3.googleusercontent.com/a-/AOh14GgDCbeDRUz17ZQwgdm4Xtqk_E2iIeJs6myMhdLylg=s64",
      "userId": "15365450731390814726"
     },
     "user_tz": 420
    },
    "id": "9jHgl4-nP_47",
    "outputId": "6a65048a-688c-438d-8e19-a2547832b234"
   },
   "outputs": [],
   "source": [
    "# from google.colab import drive \n",
    "# drive.mount('/content/drive')"
   ]
  },
  {
   "cell_type": "code",
   "execution_count": 3,
   "metadata": {
    "executionInfo": {
     "elapsed": 3278,
     "status": "ok",
     "timestamp": 1602722514976,
     "user": {
      "displayName": "dany k",
      "photoUrl": "https://lh3.googleusercontent.com/a-/AOh14GgDCbeDRUz17ZQwgdm4Xtqk_E2iIeJs6myMhdLylg=s64",
      "userId": "15365450731390814726"
     },
     "user_tz": 420
    },
    "id": "8SwAFV36vi-S"
   },
   "outputs": [],
   "source": [
    "\n",
    "train_data='Project_3_Pictures/Skin_Train_Data'\n",
    "test_data='Project_3_Pictures/Skin_Test_Data'"
   ]
  },
  {
   "cell_type": "code",
   "execution_count": 4,
   "metadata": {
    "colab": {
     "base_uri": "https://localhost:8080/",
     "height": 51
    },
    "executionInfo": {
     "elapsed": 2048,
     "status": "ok",
     "timestamp": 1602723557995,
     "user": {
      "displayName": "dany k",
      "photoUrl": "https://lh3.googleusercontent.com/a-/AOh14GgDCbeDRUz17ZQwgdm4Xtqk_E2iIeJs6myMhdLylg=s64",
      "userId": "15365450731390814726"
     },
     "user_tz": 420
    },
    "id": "mho5EQZUP_1F",
    "outputId": "a3b24a71-1b75-44e6-b907-d73434822455"
   },
   "outputs": [
    {
     "name": "stdout",
     "output_type": "stream",
     "text": [
      "Found 4424 images belonging to 7 classes.\n",
      "Found 1110 images belonging to 7 classes.\n"
     ]
    }
   ],
   "source": [
    "\n",
    "train_datagen = ImageDataGenerator(rescale = 1./255, # To rescaling the image in range of [0,1]\n",
    "                                   shear_range = 0.2, # To randomly shear the images \n",
    "                                   zoom_range = 0.2, # To randomly zoom the images\n",
    "                                   horizontal_flip = True) #  for randomly flipping half of the images horizontally \n",
    "test_datagen = ImageDataGenerator(rescale = 1./255)\n",
    "\n",
    "train_generator = train_datagen.flow_from_directory(train_data,\n",
    "                                                target_size=(224,224),\n",
    "                                                batch_size=32, #Total no. of batches\n",
    "                                                class_mode='categorical')\n",
    "\n",
    "test_generator = test_datagen.flow_from_directory(test_data,\n",
    "                                            target_size=(224,224),\n",
    "                                            batch_size=32,\n",
    "                                            class_mode='categorical')\n"
   ]
  },
  {
   "cell_type": "markdown",
   "metadata": {
    "id": "mosQzIyNxG34"
   },
   "source": [
    "### Building CNN Model "
   ]
  },
  {
   "cell_type": "markdown",
   "metadata": {
    "id": "WtC1oXvxn8C4"
   },
   "source": [
    "##### **My CNN model** : <br/>\n",
    "{Input - Convolution + Relu  pooling - convolution + Relu pooling } **Feature learning** <br/>\n",
    "{Flatten - Fully connected - Softmax} **Classification** \n"
   ]
  },
  {
   "cell_type": "code",
   "execution_count": 5,
   "metadata": {
    "colab": {
     "base_uri": "https://localhost:8080/",
     "height": 867
    },
    "executionInfo": {
     "elapsed": 1212,
     "status": "ok",
     "timestamp": 1602723700813,
     "user": {
      "displayName": "dany k",
      "photoUrl": "https://lh3.googleusercontent.com/a-/AOh14GgDCbeDRUz17ZQwgdm4Xtqk_E2iIeJs6myMhdLylg=s64",
      "userId": "15365450731390814726"
     },
     "user_tz": 420
    },
    "id": "eWjufhfZxH5H",
    "outputId": "a8dfb731-5cdf-4c1a-cf3a-4b599d16c1e4"
   },
   "outputs": [
    {
     "name": "stdout",
     "output_type": "stream",
     "text": [
      "Model: \"sequential\"\n",
      "_________________________________________________________________\n",
      "Layer (type)                 Output Shape              Param #   \n",
      "=================================================================\n",
      "conv2d (Conv2D)              (None, 224, 224, 64)      1792      \n",
      "_________________________________________________________________\n",
      "activation (Activation)      (None, 224, 224, 64)      0         \n",
      "_________________________________________________________________\n",
      "conv2d_1 (Conv2D)            (None, 222, 222, 64)      36928     \n",
      "_________________________________________________________________\n",
      "activation_1 (Activation)    (None, 222, 222, 64)      0         \n",
      "_________________________________________________________________\n",
      "max_pooling2d (MaxPooling2D) (None, 111, 111, 64)      0         \n",
      "_________________________________________________________________\n",
      "conv2d_2 (Conv2D)            (None, 111, 111, 32)      18464     \n",
      "_________________________________________________________________\n",
      "activation_2 (Activation)    (None, 111, 111, 32)      0         \n",
      "_________________________________________________________________\n",
      "conv2d_3 (Conv2D)            (None, 109, 109, 32)      9248      \n",
      "_________________________________________________________________\n",
      "activation_3 (Activation)    (None, 109, 109, 32)      0         \n",
      "_________________________________________________________________\n",
      "max_pooling2d_1 (MaxPooling2 (None, 54, 54, 32)        0         \n",
      "_________________________________________________________________\n",
      "flatten (Flatten)            (None, 93312)             0         \n",
      "_________________________________________________________________\n",
      "dense (Dense)                (None, 7)                 653191    \n",
      "_________________________________________________________________\n",
      "activation_4 (Activation)    (None, 7)                 0         \n",
      "=================================================================\n",
      "Total params: 719,623\n",
      "Trainable params: 719,623\n",
      "Non-trainable params: 0\n",
      "_________________________________________________________________\n"
     ]
    }
   ],
   "source": [
    "# Initializing CNN\n",
    "model= Sequential()\n",
    "\n",
    "#for first convolution\n",
    "model.add(Convolution2D(64, (3, 3), padding = 'same',  input_shape = (224, 224, 3)))\n",
    "model.add(Activation('relu'))\n",
    "model.add(Convolution2D(64, (3, 3)))\n",
    "model.add(Activation('relu'))\n",
    "model.add(MaxPooling2D(pool_size = (2,2)))\n",
    "#For second convolution\n",
    "model.add(Convolution2D(32, (3, 3), padding = 'same'))\n",
    "model.add(Activation('relu'))\n",
    "model.add(Convolution2D(32, (3, 3)))\n",
    "model.add(Activation('relu'))\n",
    "model.add(MaxPooling2D(pool_size = (2,2)))\n",
    "\n",
    "          \n",
    "#for the final part\n",
    "model.add(Flatten())\n",
    "model.add(Dense(units = 7))\n",
    "model.add(Activation('softmax'))\n",
    "model.summary()\n",
    "\n",
    "# #  Adding 1st Convolution layer and Pooling layer\n",
    "# model.add(Convolution2D(64,(3,3),input_shape = (224,224,3), activation = 'relu'))\n",
    "# # layer poolling  to reduce the size the image interpretation \n",
    "# model.add(MaxPooling2D(pool_size = (2, 2)))\n",
    "\n",
    "# model.add(Dense(64))\n",
    "\n",
    "# model.add(activation='relu')\n",
    "\n",
    "# model.add(Convolution2D(64,(3,3))\n",
    "\n",
    "# model.add(Dense(32))\n",
    "\n",
    "# model.add(activation='relu')\n",
    "\n",
    "# #  Adding 2nd convolution layer and polling layer\n",
    "# # model.add(Convolution2D(32,(3,3), activation = 'relu'))\n",
    "\n",
    "# model.add(MaxPooling2D(pool_size = (2, 2)))\n",
    "\n",
    "\n",
    "#Flattening the layers to convert the two dimentional vectort to a one dimentional vector \n",
    "# model.add(Flatten())\n",
    "\n",
    "# Full_Connection using 40 dense layers with different number of Neurones to increase accuracy \n",
    "\n",
    "# model.add(Dense(units=32,activation = 'relu')) # using relu activation function (non linear function)\n",
    "\n",
    "# model.add(Dense(units=256,activation = 'relu'))\n",
    "\n",
    "# model.add(Dense(units=128,activation = 'relu'))\n",
    "\n",
    "# model.add(Dense(units=256,activation = 'relu'))\n",
    "\n",
    "# model.add(Dense(units=256,activation = 'relu'))\n",
    "\n",
    "# model.add(Dense(units=256,activation = 'relu'))\n",
    "\n",
    "# model.add(Dense(units=256,activation = 'relu'))\n",
    "\n",
    "# model.add(Dense(units=582,activation = 'relu'))\n",
    "\n",
    "# model.add(Dense(units=582,activation = 'relu'))\n",
    "\n",
    "# model.add(Dense(units=1164,activation = 'relu'))\n",
    "\n",
    "# model.add(Dense(units=1164,activation = 'relu'))\n",
    "\n",
    "# model.add(Dense(units=1164,activation = 'relu'))\n",
    "\n",
    "# model.add(Dense(units=1164,activation = 'relu'))\n",
    "\n",
    "# model.add(Dense(units=1164,activation = 'relu'))\n",
    "\n",
    "# model.add(Dense(units=1164,activation = 'relu'))\n",
    "\n",
    "# model.add(Dense(units=1164,activation = 'relu'))\n",
    "\n",
    "# model.add(Dense(units=1164,activation = 'relu'))\n",
    "\n",
    "# model.add(Dense(units=2328,activation = 'relu'))\n",
    "\n",
    "# model.add(Dense(units=2328,activation = 'relu'))\n",
    "\n",
    "# model.add(Dense(units=2328,activation = 'relu'))\n",
    "\n",
    "# model.add(Dense(units=2328,activation = 'relu'))\n",
    "\n",
    "# model.add(Dense(units=2328,activation = 'relu'))\n",
    "\n",
    "# model.add(Dense(units=2328,activation = 'relu'))\n",
    "\n",
    "# model.add(Dense(units=2328,activation = 'relu'))\n",
    "\n",
    "# model.add(Dense(units=2328,activation = 'relu'))\n",
    "\n",
    "# model.add(Dense(units=2328,activation = 'relu'))\n",
    "\n",
    "# model.add(Dense(units=2328,activation = 'relu'))\n",
    "\n",
    "# model.add(Dense(units=2328,activation = 'relu'))\n",
    "\n",
    "# model.add(Dense(units=2328,activation = 'relu'))\n",
    "\n",
    "# model.add(Dense(units=2328,activation = 'relu'))\n",
    "\n",
    "# model.add(Dense(units=2328,activation = 'relu'))\n",
    "\n",
    "# model.add(Dense(units=2328,activation = 'relu'))\n",
    "\n",
    "# model.add(Dense(units=2328,activation = 'relu'))\n",
    "\n",
    "# model.add(Dense(units=3492,activation = 'relu'))\n",
    "\n",
    "# model.add(Dense(units=3492,activation = 'relu'))\n",
    "\n",
    "# model.add(Dense(units=3492,activation = 'relu'))\n",
    "\n",
    "# model.add(Dense(units=3492,activation = 'relu'))\n",
    "\n",
    "# model.add(Dense(units=3492,activation = 'relu'))\n",
    "\n",
    "# model.add(Dense(units=3492,activation = 'relu'))\n",
    "\n",
    "# model.add(Dense(units=3492,activation = 'relu'))\n",
    "\n",
    "# model.add(Dense(units=3492,activation = 'relu'))\n",
    "\n",
    "# model.add(Dense(units=3492,activation = 'relu'))\n",
    "\n",
    "# model.add(Dense(units=3492,activation = 'relu'))\n",
    "\n",
    "# model.add(Dense(units=7,activation = 'softmax')) # No. classes > 2 --> softmax instead of sigmoid \n",
    "\n",
    "# model.summary()"
   ]
  },
  {
   "cell_type": "code",
   "execution_count": null,
   "metadata": {},
   "outputs": [],
   "source": []
  },
  {
   "cell_type": "code",
   "execution_count": 6,
   "metadata": {},
   "outputs": [],
   "source": [
    "from keras.optimizers import Adam"
   ]
  },
  {
   "cell_type": "markdown",
   "metadata": {
    "id": "tQuhNBIe6it2"
   },
   "source": []
  },
  {
   "cell_type": "code",
   "execution_count": 7,
   "metadata": {
    "executionInfo": {
     "elapsed": 874,
     "status": "ok",
     "timestamp": 1602723712589,
     "user": {
      "displayName": "dany k",
      "photoUrl": "https://lh3.googleusercontent.com/a-/AOh14GgDCbeDRUz17ZQwgdm4Xtqk_E2iIeJs6myMhdLylg=s64",
      "userId": "15365450731390814726"
     },
     "user_tz": 420
    },
    "id": "FxhzvkLFP_ya"
   },
   "outputs": [
    {
     "name": "stdout",
     "output_type": "stream",
     "text": [
      "Model: \"sequential\"\n",
      "_________________________________________________________________\n",
      "Layer (type)                 Output Shape              Param #   \n",
      "=================================================================\n",
      "conv2d (Conv2D)              (None, 224, 224, 64)      1792      \n",
      "_________________________________________________________________\n",
      "activation (Activation)      (None, 224, 224, 64)      0         \n",
      "_________________________________________________________________\n",
      "conv2d_1 (Conv2D)            (None, 222, 222, 64)      36928     \n",
      "_________________________________________________________________\n",
      "activation_1 (Activation)    (None, 222, 222, 64)      0         \n",
      "_________________________________________________________________\n",
      "max_pooling2d (MaxPooling2D) (None, 111, 111, 64)      0         \n",
      "_________________________________________________________________\n",
      "conv2d_2 (Conv2D)            (None, 111, 111, 32)      18464     \n",
      "_________________________________________________________________\n",
      "activation_2 (Activation)    (None, 111, 111, 32)      0         \n",
      "_________________________________________________________________\n",
      "conv2d_3 (Conv2D)            (None, 109, 109, 32)      9248      \n",
      "_________________________________________________________________\n",
      "activation_3 (Activation)    (None, 109, 109, 32)      0         \n",
      "_________________________________________________________________\n",
      "max_pooling2d_1 (MaxPooling2 (None, 54, 54, 32)        0         \n",
      "_________________________________________________________________\n",
      "flatten (Flatten)            (None, 93312)             0         \n",
      "_________________________________________________________________\n",
      "dense (Dense)                (None, 7)                 653191    \n",
      "_________________________________________________________________\n",
      "activation_4 (Activation)    (None, 7)                 0         \n",
      "=================================================================\n",
      "Total params: 719,623\n",
      "Trainable params: 719,623\n",
      "Non-trainable params: 0\n",
      "_________________________________________________________________\n"
     ]
    }
   ],
   "source": [
    "# Compiling CNN\n",
    "model.compile(optimizer = 'Adam', loss = 'categorical_crossentropy', metrics = ['accuracy'])\n",
    "model.summary()"
   ]
  },
  {
   "cell_type": "code",
   "execution_count": null,
   "metadata": {
    "id": "N9tD6vOUP_vt"
   },
   "outputs": [
    {
     "name": "stdout",
     "output_type": "stream",
     "text": [
      "Epoch 1/10\n",
      " 76/139 [===============>..............] - ETA: 9:53 - loss: 1.6117 - accuracy: 0.3627 "
     ]
    }
   ],
   "source": [
    "# Fitting CNN to images\n",
    "# model.fit_generator(train_generator,\n",
    "#                          samples_per_epoch=155, # Total training images\n",
    "#                          nb_epoch = 15, # Total no. of epochs\n",
    "#                          validation_data = test_generator,\n",
    "#                          validation_steps = 40) # Total testing images\n",
    "# from keras.callbacks import History \n",
    "# history= History()\n",
    "# model.fit_generator(\n",
    "#         train_generator,\n",
    "#         steps_per_epoch=4424,\n",
    "#         epochs=10, callbacks=[history],\n",
    "#         validation_data=test_generator,\n",
    "#        validation_steps=1110)\n",
    "nb_epoch = 10\n",
    "nb_train_samples = 138\n",
    "nb_validation_samples = 35\n",
    "training = model.fit_generator(\n",
    "        train_generator,\n",
    "#         steps_per_epoch=nb_train_samples,\n",
    "        \n",
    "        epochs=nb_epoch,\n",
    "        validation_data=test_generator,\n",
    "       validation_steps=nb_validation_samples)"
   ]
  },
  {
   "cell_type": "markdown",
   "metadata": {
    "id": "OKnR2MVO4f05"
   },
   "source": []
  },
  {
   "cell_type": "code",
   "execution_count": null,
   "metadata": {
    "id": "zibYuYXABaLr"
   },
   "outputs": [],
   "source": [
    "#step8 saving model \n",
    "\n",
    "# classifier.save(\"model.h5\")"
   ]
  },
  {
   "cell_type": "code",
   "execution_count": null,
   "metadata": {
    "id": "Y_cGbpYyP_s0"
   },
   "outputs": [],
   "source": []
  },
  {
   "cell_type": "code",
   "execution_count": null,
   "metadata": {
    "id": "Z9ObyrxqP_pF"
   },
   "outputs": [],
   "source": []
  }
 ],
 "metadata": {
  "colab": {
   "authorship_tag": "ABX9TyOoSYJFdSEbvk8LBOhUKUhM",
   "collapsed_sections": [],
   "name": "Untitled5.ipynb",
   "provenance": []
  },
  "kernelspec": {
   "display_name": "Python [conda env:PythonData] *",
   "language": "python",
   "name": "conda-env-PythonData-py"
  },
  "language_info": {
   "codemirror_mode": {
    "name": "ipython",
    "version": 3
   },
   "file_extension": ".py",
   "mimetype": "text/x-python",
   "name": "python",
   "nbconvert_exporter": "python",
   "pygments_lexer": "ipython3",
   "version": "3.8.3"
  }
 },
 "nbformat": 4,
 "nbformat_minor": 1
}
